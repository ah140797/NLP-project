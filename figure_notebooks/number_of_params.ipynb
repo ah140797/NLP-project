{
 "cells": [
  {
   "cell_type": "code",
   "execution_count": 11,
   "metadata": {},
   "outputs": [],
   "source": [
    "import os\n",
    "from torch import nn\n",
    "from transformers import AutoModel\n",
    "\n",
    "import warnings\n",
    "warnings.filterwarnings(\"ignore\")"
   ]
  },
  {
   "cell_type": "code",
   "execution_count": 12,
   "metadata": {},
   "outputs": [],
   "source": [
    "ALL_MODELS_FOLDER = \"../models/\""
   ]
  },
  {
   "cell_type": "code",
   "execution_count": 13,
   "metadata": {},
   "outputs": [],
   "source": [
    "def load_model_from_checkpoint(model_folder: str) -> str:\n",
    "    \"\"\"Loads from local checkpoint. Loads the checkpoint with the highest number.\n",
    "\n",
    "    Args:\n",
    "        model_folder (str): model folder with may contain multiple checkpoints.\n",
    "\n",
    "    Returns:\n",
    "        str: returns the checkpoint with the highest number\n",
    "    \"\"\"\n",
    "    checkpoints = [d for d in os.listdir(model_folder) if d.startswith(\"checkpoint-\")]\n",
    "\n",
    "    if not checkpoints:\n",
    "        print(f\"No checkpoints found in {model_folder}\")\n",
    "        exit()\n",
    "\n",
    "    # Find the checkpoint with the highest step number\n",
    "    checkpoints = sorted(checkpoints, key=lambda x: int(x.split(\"-\")[-1]), reverse=True)\n",
    "    checkpoint_dir = os.path.join(model_folder, checkpoints[0])\n",
    "\n",
    "    return checkpoint_dir\n",
    "\n",
    "\n",
    "def print_num_params(model) -> None:\n",
    "    \"\"\"\n",
    "    Prints the total number of parameters in the model in millions.\n",
    "\n",
    "    Args:\n",
    "        model: The model whose parameters are to be counted.\n",
    "    \"\"\"\n",
    "    num_params = sum(p.numel() for p in model.parameters())\n",
    "    num_params_million = num_params / 1e6\n",
    "    return (f\"{num_params_million:.2f}M\")\n",
    "\n",
    "\n",
    "def process_model_folders(base_dir: str) -> dict:\n",
    "    \"\"\"\n",
    "    Processes folders with the 'language_tokenizer_vs' pattern to load the model with the highest checkpoint and print the parameters.\n",
    "    \n",
    "    Args:\n",
    "        base_dir (str): The base directory containing model folders.\n",
    "    \"\"\"\n",
    "    num_params = {}\n",
    "    # Iterate through folders starting with 'language_tokenizer_vs'\n",
    "    for folder_name in os.listdir(base_dir):\n",
    "        if folder_name[-1].isdigit():\n",
    "            model_folder = os.path.join(base_dir, folder_name)\n",
    "\n",
    "            checkpoint_dir = load_model_from_checkpoint(model_folder)\n",
    "            \n",
    "            model = AutoModel.from_pretrained(checkpoint_dir)\n",
    "\n",
    "            # Print number of parameters\n",
    "            print_num_params(model)\n",
    "            print(f\"Processed model from folder: {model_folder}\")"
   ]
  },
  {
   "cell_type": "code",
   "execution_count": 14,
   "metadata": {},
   "outputs": [
    {
     "name": "stderr",
     "output_type": "stream",
     "text": [
      "Some weights of BertModel were not initialized from the model checkpoint at ../models/model_es_BPE_vs10000\\checkpoint-583 and are newly initialized: ['bert.pooler.dense.weight', 'bert.pooler.dense.bias']\n",
      "You should probably TRAIN this model on a down-stream task to be able to use it for predictions and inference.\n"
     ]
    },
    {
     "name": "stdout",
     "output_type": "stream",
     "text": [
      "Number of parameters: 7.95M\n",
      "Processed model from folder: ../models/model_es_BPE_vs10000\n"
     ]
    },
    {
     "name": "stderr",
     "output_type": "stream",
     "text": [
      "Some weights of BertModel were not initialized from the model checkpoint at ../models/model_es_BPE_vs20000\\checkpoint-583 and are newly initialized: ['bert.pooler.dense.weight', 'bert.pooler.dense.bias']\n",
      "You should probably TRAIN this model on a down-stream task to be able to use it for predictions and inference.\n"
     ]
    },
    {
     "name": "stdout",
     "output_type": "stream",
     "text": [
      "Number of parameters: 11.07M\n",
      "Processed model from folder: ../models/model_es_BPE_vs20000\n"
     ]
    },
    {
     "name": "stderr",
     "output_type": "stream",
     "text": [
      "Some weights of BertModel were not initialized from the model checkpoint at ../models/model_es_BPE_vs30000\\checkpoint-583 and are newly initialized: ['bert.pooler.dense.weight', 'bert.pooler.dense.bias']\n",
      "You should probably TRAIN this model on a down-stream task to be able to use it for predictions and inference.\n"
     ]
    },
    {
     "name": "stdout",
     "output_type": "stream",
     "text": [
      "Number of parameters: 14.19M\n",
      "Processed model from folder: ../models/model_es_BPE_vs30000\n"
     ]
    },
    {
     "name": "stderr",
     "output_type": "stream",
     "text": [
      "Some weights of BertModel were not initialized from the model checkpoint at ../models/model_es_BPE_vs40000\\checkpoint-583 and are newly initialized: ['bert.pooler.dense.weight', 'bert.pooler.dense.bias']\n",
      "You should probably TRAIN this model on a down-stream task to be able to use it for predictions and inference.\n"
     ]
    },
    {
     "name": "stdout",
     "output_type": "stream",
     "text": [
      "Number of parameters: 17.31M\n",
      "Processed model from folder: ../models/model_es_BPE_vs40000\n"
     ]
    },
    {
     "name": "stderr",
     "output_type": "stream",
     "text": [
      "Some weights of BertModel were not initialized from the model checkpoint at ../models/model_es_Unigram_vs10000\\checkpoint-583 and are newly initialized: ['bert.pooler.dense.weight', 'bert.pooler.dense.bias']\n",
      "You should probably TRAIN this model on a down-stream task to be able to use it for predictions and inference.\n"
     ]
    },
    {
     "name": "stdout",
     "output_type": "stream",
     "text": [
      "Number of parameters: 7.95M\n",
      "Processed model from folder: ../models/model_es_Unigram_vs10000\n"
     ]
    },
    {
     "name": "stderr",
     "output_type": "stream",
     "text": [
      "Some weights of BertModel were not initialized from the model checkpoint at ../models/model_es_Unigram_vs20000\\checkpoint-583 and are newly initialized: ['bert.pooler.dense.weight', 'bert.pooler.dense.bias']\n",
      "You should probably TRAIN this model on a down-stream task to be able to use it for predictions and inference.\n"
     ]
    },
    {
     "name": "stdout",
     "output_type": "stream",
     "text": [
      "Number of parameters: 11.07M\n",
      "Processed model from folder: ../models/model_es_Unigram_vs20000\n"
     ]
    },
    {
     "name": "stderr",
     "output_type": "stream",
     "text": [
      "Some weights of BertModel were not initialized from the model checkpoint at ../models/model_es_Unigram_vs30000\\checkpoint-583 and are newly initialized: ['bert.pooler.dense.weight', 'bert.pooler.dense.bias']\n",
      "You should probably TRAIN this model on a down-stream task to be able to use it for predictions and inference.\n"
     ]
    },
    {
     "name": "stdout",
     "output_type": "stream",
     "text": [
      "Number of parameters: 14.19M\n",
      "Processed model from folder: ../models/model_es_Unigram_vs30000\n"
     ]
    },
    {
     "name": "stderr",
     "output_type": "stream",
     "text": [
      "Some weights of BertModel were not initialized from the model checkpoint at ../models/model_es_Unigram_vs40000\\checkpoint-583 and are newly initialized: ['bert.pooler.dense.weight', 'bert.pooler.dense.bias']\n",
      "You should probably TRAIN this model on a down-stream task to be able to use it for predictions and inference.\n"
     ]
    },
    {
     "name": "stdout",
     "output_type": "stream",
     "text": [
      "Number of parameters: 17.31M\n",
      "Processed model from folder: ../models/model_es_Unigram_vs40000\n"
     ]
    },
    {
     "name": "stderr",
     "output_type": "stream",
     "text": [
      "Some weights of BertModel were not initialized from the model checkpoint at ../models/model_es_Wordpiece_vs10000\\checkpoint-583 and are newly initialized: ['bert.pooler.dense.weight', 'bert.pooler.dense.bias']\n",
      "You should probably TRAIN this model on a down-stream task to be able to use it for predictions and inference.\n"
     ]
    },
    {
     "name": "stdout",
     "output_type": "stream",
     "text": [
      "Number of parameters: 7.95M\n",
      "Processed model from folder: ../models/model_es_Wordpiece_vs10000\n"
     ]
    },
    {
     "name": "stderr",
     "output_type": "stream",
     "text": [
      "Some weights of BertModel were not initialized from the model checkpoint at ../models/model_es_Wordpiece_vs20000\\checkpoint-583 and are newly initialized: ['bert.pooler.dense.weight', 'bert.pooler.dense.bias']\n",
      "You should probably TRAIN this model on a down-stream task to be able to use it for predictions and inference.\n"
     ]
    },
    {
     "name": "stdout",
     "output_type": "stream",
     "text": [
      "Number of parameters: 11.07M\n",
      "Processed model from folder: ../models/model_es_Wordpiece_vs20000\n"
     ]
    },
    {
     "name": "stderr",
     "output_type": "stream",
     "text": [
      "Some weights of BertModel were not initialized from the model checkpoint at ../models/model_es_Wordpiece_vs30000\\checkpoint-583 and are newly initialized: ['bert.pooler.dense.weight', 'bert.pooler.dense.bias']\n",
      "You should probably TRAIN this model on a down-stream task to be able to use it for predictions and inference.\n"
     ]
    },
    {
     "name": "stdout",
     "output_type": "stream",
     "text": [
      "Number of parameters: 14.19M\n",
      "Processed model from folder: ../models/model_es_Wordpiece_vs30000\n"
     ]
    },
    {
     "name": "stderr",
     "output_type": "stream",
     "text": [
      "Some weights of BertModel were not initialized from the model checkpoint at ../models/model_es_Wordpiece_vs40000\\checkpoint-583 and are newly initialized: ['bert.pooler.dense.weight', 'bert.pooler.dense.bias']\n",
      "You should probably TRAIN this model on a down-stream task to be able to use it for predictions and inference.\n"
     ]
    },
    {
     "name": "stdout",
     "output_type": "stream",
     "text": [
      "Number of parameters: 17.31M\n",
      "Processed model from folder: ../models/model_es_Wordpiece_vs40000\n"
     ]
    },
    {
     "name": "stderr",
     "output_type": "stream",
     "text": [
      "Some weights of BertModel were not initialized from the model checkpoint at ../models/model_tr_BPE_vs10000\\checkpoint-583 and are newly initialized: ['bert.pooler.dense.weight', 'bert.pooler.dense.bias']\n",
      "You should probably TRAIN this model on a down-stream task to be able to use it for predictions and inference.\n"
     ]
    },
    {
     "name": "stdout",
     "output_type": "stream",
     "text": [
      "Number of parameters: 7.95M\n",
      "Processed model from folder: ../models/model_tr_BPE_vs10000\n"
     ]
    },
    {
     "name": "stderr",
     "output_type": "stream",
     "text": [
      "Some weights of BertModel were not initialized from the model checkpoint at ../models/model_tr_BPE_vs20000\\checkpoint-583 and are newly initialized: ['bert.pooler.dense.weight', 'bert.pooler.dense.bias']\n",
      "You should probably TRAIN this model on a down-stream task to be able to use it for predictions and inference.\n"
     ]
    },
    {
     "name": "stdout",
     "output_type": "stream",
     "text": [
      "Number of parameters: 11.07M\n",
      "Processed model from folder: ../models/model_tr_BPE_vs20000\n"
     ]
    },
    {
     "name": "stderr",
     "output_type": "stream",
     "text": [
      "Some weights of BertModel were not initialized from the model checkpoint at ../models/model_tr_BPE_vs30000\\checkpoint-583 and are newly initialized: ['bert.pooler.dense.weight', 'bert.pooler.dense.bias']\n",
      "You should probably TRAIN this model on a down-stream task to be able to use it for predictions and inference.\n"
     ]
    },
    {
     "name": "stdout",
     "output_type": "stream",
     "text": [
      "Number of parameters: 14.19M\n",
      "Processed model from folder: ../models/model_tr_BPE_vs30000\n"
     ]
    },
    {
     "name": "stderr",
     "output_type": "stream",
     "text": [
      "Some weights of BertModel were not initialized from the model checkpoint at ../models/model_tr_BPE_vs40000\\checkpoint-583 and are newly initialized: ['bert.pooler.dense.weight', 'bert.pooler.dense.bias']\n",
      "You should probably TRAIN this model on a down-stream task to be able to use it for predictions and inference.\n",
      "Some weights of BertModel were not initialized from the model checkpoint at ../models/model_tr_Unigram_vs10000\\checkpoint-583 and are newly initialized: ['bert.pooler.dense.weight', 'bert.pooler.dense.bias']\n",
      "You should probably TRAIN this model on a down-stream task to be able to use it for predictions and inference.\n"
     ]
    },
    {
     "name": "stdout",
     "output_type": "stream",
     "text": [
      "Number of parameters: 17.31M\n",
      "Processed model from folder: ../models/model_tr_BPE_vs40000\n",
      "Number of parameters: 7.95M\n",
      "Processed model from folder: ../models/model_tr_Unigram_vs10000\n"
     ]
    },
    {
     "name": "stderr",
     "output_type": "stream",
     "text": [
      "Some weights of BertModel were not initialized from the model checkpoint at ../models/model_tr_Unigram_vs20000\\checkpoint-583 and are newly initialized: ['bert.pooler.dense.weight', 'bert.pooler.dense.bias']\n",
      "You should probably TRAIN this model on a down-stream task to be able to use it for predictions and inference.\n"
     ]
    },
    {
     "name": "stdout",
     "output_type": "stream",
     "text": [
      "Number of parameters: 11.07M\n",
      "Processed model from folder: ../models/model_tr_Unigram_vs20000\n"
     ]
    },
    {
     "name": "stderr",
     "output_type": "stream",
     "text": [
      "Some weights of BertModel were not initialized from the model checkpoint at ../models/model_tr_Unigram_vs30000\\checkpoint-583 and are newly initialized: ['bert.pooler.dense.weight', 'bert.pooler.dense.bias']\n",
      "You should probably TRAIN this model on a down-stream task to be able to use it for predictions and inference.\n"
     ]
    },
    {
     "name": "stdout",
     "output_type": "stream",
     "text": [
      "Number of parameters: 14.19M\n",
      "Processed model from folder: ../models/model_tr_Unigram_vs30000\n"
     ]
    },
    {
     "name": "stderr",
     "output_type": "stream",
     "text": [
      "Some weights of BertModel were not initialized from the model checkpoint at ../models/model_tr_Unigram_vs40000\\checkpoint-583 and are newly initialized: ['bert.pooler.dense.weight', 'bert.pooler.dense.bias']\n",
      "You should probably TRAIN this model on a down-stream task to be able to use it for predictions and inference.\n"
     ]
    },
    {
     "name": "stdout",
     "output_type": "stream",
     "text": [
      "Number of parameters: 17.31M\n",
      "Processed model from folder: ../models/model_tr_Unigram_vs40000\n"
     ]
    },
    {
     "name": "stderr",
     "output_type": "stream",
     "text": [
      "Some weights of BertModel were not initialized from the model checkpoint at ../models/model_tr_Wordpiece_vs10000\\checkpoint-583 and are newly initialized: ['bert.pooler.dense.weight', 'bert.pooler.dense.bias']\n",
      "You should probably TRAIN this model on a down-stream task to be able to use it for predictions and inference.\n"
     ]
    },
    {
     "name": "stdout",
     "output_type": "stream",
     "text": [
      "Number of parameters: 7.95M\n",
      "Processed model from folder: ../models/model_tr_Wordpiece_vs10000\n"
     ]
    },
    {
     "name": "stderr",
     "output_type": "stream",
     "text": [
      "Some weights of BertModel were not initialized from the model checkpoint at ../models/model_tr_Wordpiece_vs20000\\checkpoint-583 and are newly initialized: ['bert.pooler.dense.weight', 'bert.pooler.dense.bias']\n",
      "You should probably TRAIN this model on a down-stream task to be able to use it for predictions and inference.\n"
     ]
    },
    {
     "name": "stdout",
     "output_type": "stream",
     "text": [
      "Number of parameters: 11.07M\n",
      "Processed model from folder: ../models/model_tr_Wordpiece_vs20000\n"
     ]
    },
    {
     "name": "stderr",
     "output_type": "stream",
     "text": [
      "Some weights of BertModel were not initialized from the model checkpoint at ../models/model_tr_Wordpiece_vs30000\\checkpoint-583 and are newly initialized: ['bert.pooler.dense.weight', 'bert.pooler.dense.bias']\n",
      "You should probably TRAIN this model on a down-stream task to be able to use it for predictions and inference.\n"
     ]
    },
    {
     "name": "stdout",
     "output_type": "stream",
     "text": [
      "Number of parameters: 14.19M\n",
      "Processed model from folder: ../models/model_tr_Wordpiece_vs30000\n"
     ]
    },
    {
     "name": "stderr",
     "output_type": "stream",
     "text": [
      "Some weights of BertModel were not initialized from the model checkpoint at ../models/model_tr_Wordpiece_vs40000\\checkpoint-583 and are newly initialized: ['bert.pooler.dense.weight', 'bert.pooler.dense.bias']\n",
      "You should probably TRAIN this model on a down-stream task to be able to use it for predictions and inference.\n"
     ]
    },
    {
     "name": "stdout",
     "output_type": "stream",
     "text": [
      "Number of parameters: 17.31M\n",
      "Processed model from folder: ../models/model_tr_Wordpiece_vs40000\n"
     ]
    }
   ],
   "source": [
    "process_model_folders(ALL_MODELS_FOLDER)"
   ]
  }
 ],
 "metadata": {
  "kernelspec": {
   "display_name": "base",
   "language": "python",
   "name": "python3"
  },
  "language_info": {
   "codemirror_mode": {
    "name": "ipython",
    "version": 3
   },
   "file_extension": ".py",
   "mimetype": "text/x-python",
   "name": "python",
   "nbconvert_exporter": "python",
   "pygments_lexer": "ipython3",
   "version": "3.11.5"
  }
 },
 "nbformat": 4,
 "nbformat_minor": 2
}
