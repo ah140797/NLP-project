{
 "cells": [
  {
   "cell_type": "code",
   "execution_count": 7,
   "metadata": {},
   "outputs": [],
   "source": [
    "import json\n",
    "import os\n",
    "\n",
    "import numpy as np\n",
    "\n",
    "import matplotlib.pyplot as plt"
   ]
  },
  {
   "cell_type": "code",
   "execution_count": 41,
   "metadata": {},
   "outputs": [],
   "source": [
    "ALL_RESULTS_FOLDER = '../results/'"
   ]
  },
  {
   "cell_type": "code",
   "execution_count": 112,
   "metadata": {},
   "outputs": [
    {
     "name": "stdout",
     "output_type": "stream",
     "text": [
      "Dataset: Flores\n",
      "  Language: ES\n",
      "    Mean BPE: 1.0182749922540735\n",
      "    Mean WordPiece: 0.9173679347616321\n",
      "    Vocab Size: 40000\n",
      "\n",
      "Dataset: Flores\n",
      "  Language: TR\n",
      "    Mean BPE: 1.028498463359612\n",
      "    Mean WordPiece: 1.0148070452670925\n",
      "    Vocab Size: 40000\n",
      "\n",
      "Dataset: Massive\n",
      "  Language: ES\n",
      "    Mean BPE: 1.015725807952043\n",
      "    Mean WordPiece: 0.9276478914377946\n",
      "    Vocab Size: 40000\n",
      "\n",
      "Dataset: Massive\n",
      "  Language: TR\n",
      "    Mean BPE: 1.0242900966334074\n",
      "    Mean WordPiece: 0.9808937772766123\n",
      "    Vocab Size: 40000\n",
      "\n"
     ]
    }
   ],
   "source": [
    "for file_name, key in [(\"nsl_flores.json\", \"flores\"), (\"nsl_massive.json\", \"massive\")]:\n",
    "\n",
    "    for root, dirs, files in os.walk(ALL_RESULTS_FOLDER):\n",
    "        if \"unigram\" in os.path.basename(root).lower():\n",
    "            json_file = os.path.join(root, file_name)\n",
    "            if os.path.isfile(json_file):\n",
    "                \n",
    "                # Extract vocab size from the root directory (assuming it's after '_vs')\n",
    "                vocab_size = os.path.basename(root).split('_vs')[-1]\n",
    "                with open(json_file, 'r') as f:\n",
    "                    data = json.load(f)\n",
    "                    \n",
    "                    # Extract language-specific data based on the index\n",
    "                    bpe = data['NSL'][0]\n",
    "                    wordpiece = data['NSL'][1]\n",
    "                    \n",
    "                    # Calculate means directly and print them\n",
    "                    mean_bpe = np.mean(bpe) if bpe else 0\n",
    "                    mean_wordpiece = np.mean(wordpiece) if wordpiece else 0\n",
    "                    \n",
    "                    lan = root.split('/')[2].split('_')[0]\n",
    "                    if vocab_size == '40000':\n",
    "                        print(f\"Dataset: {key.capitalize()}\")\n",
    "                        print(f\"  Language: {lan.upper()}\")\n",
    "                        print(f\"    Mean BPE: {mean_bpe}\")\n",
    "                        print(f\"    Mean WordPiece: {mean_wordpiece}\")\n",
    "                        print(f\"    Vocab Size: {vocab_size}\")\n",
    "                        print()\n"
   ]
  }
 ],
 "metadata": {
  "kernelspec": {
   "display_name": "base",
   "language": "python",
   "name": "python3"
  },
  "language_info": {
   "codemirror_mode": {
    "name": "ipython",
    "version": 3
   },
   "file_extension": ".py",
   "mimetype": "text/x-python",
   "name": "python",
   "nbconvert_exporter": "python",
   "pygments_lexer": "ipython3",
   "version": "3.11.5"
  }
 },
 "nbformat": 4,
 "nbformat_minor": 2
}
